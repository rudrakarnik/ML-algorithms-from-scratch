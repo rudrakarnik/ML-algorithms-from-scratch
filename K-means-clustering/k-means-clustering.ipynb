{
 "cells": [
  {
   "cell_type": "markdown",
   "metadata": {
    "papermill": {
     "duration": 0.018541,
     "end_time": "2021-01-28T07:59:27.710982",
     "exception": false,
     "start_time": "2021-01-28T07:59:27.692441",
     "status": "completed"
    },
    "tags": []
   },
   "source": [
    "#  <center>K-means clustering</center>"
   ]
  },
  {
   "cell_type": "markdown",
   "metadata": {},
   "source": [
    "## Import Libraries"
   ]
  },
  {
   "cell_type": "code",
   "execution_count": 2,
   "metadata": {
    "_cell_guid": "b1076dfc-b9ad-4769-8c92-a6c4dae69d19",
    "_uuid": "8f2839f25d086af736a60e9eeb907d3b93b6e0e5",
    "execution": {
     "iopub.execute_input": "2021-01-28T07:59:27.755083Z",
     "iopub.status.busy": "2021-01-28T07:59:27.754113Z",
     "iopub.status.idle": "2021-01-28T07:59:30.261401Z",
     "shell.execute_reply": "2021-01-28T07:59:30.262044Z"
    },
    "papermill": {
     "duration": 2.535096,
     "end_time": "2021-01-28T07:59:30.262282",
     "exception": false,
     "start_time": "2021-01-28T07:59:27.727186",
     "status": "completed"
    },
    "tags": []
   },
   "outputs": [],
   "source": [
    "import numpy as np\n",
    "import pandas as pd\n",
    "import matplotlib.pyplot as plt\n",
    "import seaborn as sns\n",
    "import datetime\n",
    "import warnings\n",
    "warnings.simplefilter(\"ignore\")\n",
    "from collections import defaultdict"
   ]
  },
  {
   "cell_type": "markdown",
   "metadata": {
    "papermill": {
     "duration": 0.015493,
     "end_time": "2021-01-28T07:59:30.294783",
     "exception": false,
     "start_time": "2021-01-28T07:59:30.279290",
     "status": "completed"
    },
    "tags": []
   },
   "source": [
    "## Import dataset"
   ]
  },
  {
   "cell_type": "code",
   "execution_count": 3,
   "metadata": {
    "execution": {
     "iopub.execute_input": "2021-01-28T07:59:30.339975Z",
     "iopub.status.busy": "2021-01-28T07:59:30.339135Z",
     "iopub.status.idle": "2021-01-28T07:59:30.353609Z",
     "shell.execute_reply": "2021-01-28T07:59:30.352632Z"
    },
    "papermill": {
     "duration": 0.040744,
     "end_time": "2021-01-28T07:59:30.353760",
     "exception": false,
     "start_time": "2021-01-28T07:59:30.313016",
     "status": "completed"
    },
    "tags": []
   },
   "outputs": [],
   "source": [
    "X=pd.read_csv('Iris Dataset.csv')"
   ]
  },
  {
   "cell_type": "code",
   "execution_count": 44,
   "metadata": {
    "execution": {
     "iopub.execute_input": "2021-01-28T07:59:30.392073Z",
     "iopub.status.busy": "2021-01-28T07:59:30.391158Z",
     "iopub.status.idle": "2021-01-28T07:59:30.414494Z",
     "shell.execute_reply": "2021-01-28T07:59:30.415115Z"
    },
    "papermill": {
     "duration": 0.043996,
     "end_time": "2021-01-28T07:59:30.415273",
     "exception": false,
     "start_time": "2021-01-28T07:59:30.371277",
     "status": "completed"
    },
    "scrolled": true,
    "tags": []
   },
   "outputs": [
    {
     "data": {
      "text/html": [
       "<div>\n",
       "<style scoped>\n",
       "    .dataframe tbody tr th:only-of-type {\n",
       "        vertical-align: middle;\n",
       "    }\n",
       "\n",
       "    .dataframe tbody tr th {\n",
       "        vertical-align: top;\n",
       "    }\n",
       "\n",
       "    .dataframe thead th {\n",
       "        text-align: right;\n",
       "    }\n",
       "</style>\n",
       "<table border=\"1\" class=\"dataframe\">\n",
       "  <thead>\n",
       "    <tr style=\"text-align: right;\">\n",
       "      <th></th>\n",
       "      <th>Id</th>\n",
       "      <th>SepalLengthCm</th>\n",
       "      <th>SepalWidthCm</th>\n",
       "      <th>PetalLengthCm</th>\n",
       "      <th>PetalWidthCm</th>\n",
       "      <th>Species</th>\n",
       "    </tr>\n",
       "  </thead>\n",
       "  <tbody>\n",
       "    <tr>\n",
       "      <th>0</th>\n",
       "      <td>1</td>\n",
       "      <td>5.1</td>\n",
       "      <td>3.5</td>\n",
       "      <td>1.4</td>\n",
       "      <td>0.2</td>\n",
       "      <td>Iris-setosa</td>\n",
       "    </tr>\n",
       "    <tr>\n",
       "      <th>1</th>\n",
       "      <td>2</td>\n",
       "      <td>4.9</td>\n",
       "      <td>3.0</td>\n",
       "      <td>1.4</td>\n",
       "      <td>0.2</td>\n",
       "      <td>Iris-setosa</td>\n",
       "    </tr>\n",
       "    <tr>\n",
       "      <th>2</th>\n",
       "      <td>3</td>\n",
       "      <td>4.7</td>\n",
       "      <td>3.2</td>\n",
       "      <td>1.3</td>\n",
       "      <td>0.2</td>\n",
       "      <td>Iris-setosa</td>\n",
       "    </tr>\n",
       "    <tr>\n",
       "      <th>3</th>\n",
       "      <td>4</td>\n",
       "      <td>4.6</td>\n",
       "      <td>3.1</td>\n",
       "      <td>1.5</td>\n",
       "      <td>0.2</td>\n",
       "      <td>Iris-setosa</td>\n",
       "    </tr>\n",
       "    <tr>\n",
       "      <th>4</th>\n",
       "      <td>5</td>\n",
       "      <td>5.0</td>\n",
       "      <td>3.6</td>\n",
       "      <td>1.4</td>\n",
       "      <td>0.2</td>\n",
       "      <td>Iris-setosa</td>\n",
       "    </tr>\n",
       "    <tr>\n",
       "      <th>...</th>\n",
       "      <td>...</td>\n",
       "      <td>...</td>\n",
       "      <td>...</td>\n",
       "      <td>...</td>\n",
       "      <td>...</td>\n",
       "      <td>...</td>\n",
       "    </tr>\n",
       "    <tr>\n",
       "      <th>145</th>\n",
       "      <td>146</td>\n",
       "      <td>6.7</td>\n",
       "      <td>3.0</td>\n",
       "      <td>5.2</td>\n",
       "      <td>2.3</td>\n",
       "      <td>Iris-virginica</td>\n",
       "    </tr>\n",
       "    <tr>\n",
       "      <th>146</th>\n",
       "      <td>147</td>\n",
       "      <td>6.3</td>\n",
       "      <td>2.5</td>\n",
       "      <td>5.0</td>\n",
       "      <td>1.9</td>\n",
       "      <td>Iris-virginica</td>\n",
       "    </tr>\n",
       "    <tr>\n",
       "      <th>147</th>\n",
       "      <td>148</td>\n",
       "      <td>6.5</td>\n",
       "      <td>3.0</td>\n",
       "      <td>5.2</td>\n",
       "      <td>2.0</td>\n",
       "      <td>Iris-virginica</td>\n",
       "    </tr>\n",
       "    <tr>\n",
       "      <th>148</th>\n",
       "      <td>149</td>\n",
       "      <td>6.2</td>\n",
       "      <td>3.4</td>\n",
       "      <td>5.4</td>\n",
       "      <td>2.3</td>\n",
       "      <td>Iris-virginica</td>\n",
       "    </tr>\n",
       "    <tr>\n",
       "      <th>149</th>\n",
       "      <td>150</td>\n",
       "      <td>5.9</td>\n",
       "      <td>3.0</td>\n",
       "      <td>5.1</td>\n",
       "      <td>1.8</td>\n",
       "      <td>Iris-virginica</td>\n",
       "    </tr>\n",
       "  </tbody>\n",
       "</table>\n",
       "<p>150 rows × 6 columns</p>\n",
       "</div>"
      ],
      "text/plain": [
       "      Id  SepalLengthCm  SepalWidthCm  PetalLengthCm  PetalWidthCm   \n",
       "0      1            5.1           3.5            1.4           0.2  \\\n",
       "1      2            4.9           3.0            1.4           0.2   \n",
       "2      3            4.7           3.2            1.3           0.2   \n",
       "3      4            4.6           3.1            1.5           0.2   \n",
       "4      5            5.0           3.6            1.4           0.2   \n",
       "..   ...            ...           ...            ...           ...   \n",
       "145  146            6.7           3.0            5.2           2.3   \n",
       "146  147            6.3           2.5            5.0           1.9   \n",
       "147  148            6.5           3.0            5.2           2.0   \n",
       "148  149            6.2           3.4            5.4           2.3   \n",
       "149  150            5.9           3.0            5.1           1.8   \n",
       "\n",
       "            Species  \n",
       "0       Iris-setosa  \n",
       "1       Iris-setosa  \n",
       "2       Iris-setosa  \n",
       "3       Iris-setosa  \n",
       "4       Iris-setosa  \n",
       "..              ...  \n",
       "145  Iris-virginica  \n",
       "146  Iris-virginica  \n",
       "147  Iris-virginica  \n",
       "148  Iris-virginica  \n",
       "149  Iris-virginica  \n",
       "\n",
       "[150 rows x 6 columns]"
      ]
     },
     "execution_count": 44,
     "metadata": {},
     "output_type": "execute_result"
    }
   ],
   "source": [
    "X"
   ]
  },
  {
   "cell_type": "code",
   "execution_count": 5,
   "metadata": {
    "execution": {
     "iopub.execute_input": "2021-01-28T07:59:30.721840Z",
     "iopub.status.busy": "2021-01-28T07:59:30.720840Z",
     "iopub.status.idle": "2021-01-28T07:59:30.727605Z",
     "shell.execute_reply": "2021-01-28T07:59:30.726946Z"
    },
    "papermill": {
     "duration": 0.034889,
     "end_time": "2021-01-28T07:59:30.728023",
     "exception": false,
     "start_time": "2021-01-28T07:59:30.693134",
     "status": "completed"
    },
    "tags": []
   },
   "outputs": [
    {
     "data": {
      "text/plain": [
       "(150, 6)"
      ]
     },
     "execution_count": 5,
     "metadata": {},
     "output_type": "execute_result"
    }
   ],
   "source": [
    "X.shape"
   ]
  },
  {
   "cell_type": "code",
   "execution_count": 6,
   "metadata": {
    "execution": {
     "iopub.execute_input": "2021-01-28T07:59:30.779825Z",
     "iopub.status.busy": "2021-01-28T07:59:30.778970Z",
     "iopub.status.idle": "2021-01-28T07:59:30.783947Z",
     "shell.execute_reply": "2021-01-28T07:59:30.784480Z"
    },
    "papermill": {
     "duration": 0.035147,
     "end_time": "2021-01-28T07:59:30.784652",
     "exception": false,
     "start_time": "2021-01-28T07:59:30.749505",
     "status": "completed"
    },
    "tags": []
   },
   "outputs": [
    {
     "data": {
      "text/plain": [
       "3"
      ]
     },
     "execution_count": 6,
     "metadata": {},
     "output_type": "execute_result"
    }
   ],
   "source": [
    "clusters=len(np.unique(X['Species']))\n",
    "clusters"
   ]
  },
  {
   "cell_type": "markdown",
   "metadata": {
    "papermill": {
     "duration": 0.022955,
     "end_time": "2021-01-28T07:59:30.826489",
     "exception": false,
     "start_time": "2021-01-28T07:59:30.803534",
     "status": "completed"
    },
    "tags": []
   },
   "source": [
    "### Function to calculate euclidean distance"
   ]
  },
  {
   "cell_type": "code",
   "execution_count": 7,
   "metadata": {
    "execution": {
     "iopub.execute_input": "2021-01-28T07:59:30.873336Z",
     "iopub.status.busy": "2021-01-28T07:59:30.872332Z",
     "iopub.status.idle": "2021-01-28T07:59:30.876648Z",
     "shell.execute_reply": "2021-01-28T07:59:30.875857Z"
    },
    "papermill": {
     "duration": 0.029471,
     "end_time": "2021-01-28T07:59:30.876775",
     "exception": false,
     "start_time": "2021-01-28T07:59:30.847304",
     "status": "completed"
    },
    "tags": []
   },
   "outputs": [],
   "source": [
    "def euclidean_dis(x1, x2):\n",
    "    return np.sqrt(np.sum((x1 - x2)**2))"
   ]
  },
  {
   "cell_type": "markdown",
   "metadata": {
    "papermill": {
     "duration": 0.021742,
     "end_time": "2021-01-28T07:59:30.919071",
     "exception": false,
     "start_time": "2021-01-28T07:59:30.897329",
     "status": "completed"
    },
    "tags": []
   },
   "source": [
    "### KMeans Implementation"
   ]
  },
  {
   "cell_type": "code",
   "execution_count": 8,
   "metadata": {
    "execution": {
     "iopub.execute_input": "2021-01-28T07:59:30.977429Z",
     "iopub.status.busy": "2021-01-28T07:59:30.971420Z",
     "iopub.status.idle": "2021-01-28T07:59:30.986759Z",
     "shell.execute_reply": "2021-01-28T07:59:30.986186Z"
    },
    "papermill": {
     "duration": 0.047202,
     "end_time": "2021-01-28T07:59:30.986887",
     "exception": false,
     "start_time": "2021-01-28T07:59:30.939685",
     "status": "completed"
    },
    "tags": []
   },
   "outputs": [],
   "source": [
    "from collections import defaultdict\n",
    "\n",
    "\n",
    "class KMeans:\n",
    "    \n",
    "    def __init__(self,data,k,max_ite):\n",
    "        self.data=data\n",
    "        self.k=k\n",
    "        self.max_ite=max_ite\n",
    "        \n",
    "    def predict(self):\n",
    "\n",
    "        centroids = defaultdict(int)\n",
    "        \n",
    "        K=self.k\n",
    "        max_iter=self.max_ite\n",
    "        \n",
    "        for i in range(K):\n",
    "            centroids[i] = self.data[i]\n",
    "\n",
    "\n",
    "\n",
    "        r=0\n",
    "\n",
    "\n",
    "        for i in range(max_iter):\n",
    "            r=r+1\n",
    "            classes=defaultdict(list)\n",
    "            \n",
    "            for key in range(K):\n",
    "                classes[key]=[]\n",
    "            for datapoint in self.data:\n",
    "                distance=[]\n",
    "                for j in range(K):\n",
    "\n",
    "                    dis=euclidean_dis(datapoint,centroids[j])\n",
    "\n",
    "                    distance.append(dis)\n",
    "                mindis=min(distance)\n",
    "\n",
    "                index=distance.index(mindis)\n",
    "                classes[index].append(datapoint)\n",
    "                old_centroid=dict(centroids)\n",
    "\n",
    "            for t in range(K):\n",
    "                class_=classes[t]\n",
    "\n",
    "\n",
    "                new_centroid=np.mean(class_,axis=0)\n",
    "                centroids[t]=new_centroid\n",
    "            flg=1\n",
    "            for t in range(K):\n",
    "\n",
    "                a=centroids[t]\n",
    "                b=old_centroid[t]\n",
    "                if np.sum((a - b)/b * 100) > 0.001:\n",
    "                    flg = 0\n",
    "\n",
    "\n",
    "\n",
    "            if flg==1:\n",
    "                break\n",
    "\n",
    "\n",
    "        return classes,centroids"
   ]
  },
  {
   "cell_type": "markdown",
   "metadata": {
    "papermill": {
     "duration": 0.021589,
     "end_time": "2021-01-28T07:59:31.026792",
     "exception": false,
     "start_time": "2021-01-28T07:59:31.005203",
     "status": "completed"
    },
    "tags": []
   },
   "source": [
    "### prediction"
   ]
  },
  {
   "cell_type": "code",
   "execution_count": 21,
   "metadata": {},
   "outputs": [
    {
     "name": "stdout",
     "output_type": "stream",
     "text": [
      "[[5.1 3.5 1.4 0.2]\n",
      " [4.9 3.  1.4 0.2]\n",
      " [4.7 3.2 1.3 0.2]\n",
      " [4.6 3.1 1.5 0.2]\n",
      " [5.  3.6 1.4 0.2]\n",
      " [5.4 3.9 1.7 0.4]\n",
      " [4.6 3.4 1.4 0.3]\n",
      " [5.  3.4 1.5 0.2]\n",
      " [4.4 2.9 1.4 0.2]\n",
      " [4.9 3.1 1.5 0.1]\n",
      " [5.4 3.7 1.5 0.2]\n",
      " [4.8 3.4 1.6 0.2]\n",
      " [4.8 3.  1.4 0.1]\n",
      " [4.3 3.  1.1 0.1]\n",
      " [5.8 4.  1.2 0.2]\n",
      " [5.7 4.4 1.5 0.4]\n",
      " [5.4 3.9 1.3 0.4]\n",
      " [5.1 3.5 1.4 0.3]\n",
      " [5.7 3.8 1.7 0.3]\n",
      " [5.1 3.8 1.5 0.3]\n",
      " [5.4 3.4 1.7 0.2]\n",
      " [5.1 3.7 1.5 0.4]\n",
      " [4.6 3.6 1.  0.2]\n",
      " [5.1 3.3 1.7 0.5]\n",
      " [4.8 3.4 1.9 0.2]\n",
      " [5.  3.  1.6 0.2]\n",
      " [5.  3.4 1.6 0.4]\n",
      " [5.2 3.5 1.5 0.2]\n",
      " [5.2 3.4 1.4 0.2]\n",
      " [4.7 3.2 1.6 0.2]\n",
      " [4.8 3.1 1.6 0.2]\n",
      " [5.4 3.4 1.5 0.4]\n",
      " [5.2 4.1 1.5 0.1]\n",
      " [5.5 4.2 1.4 0.2]\n",
      " [4.9 3.1 1.5 0.1]\n",
      " [5.  3.2 1.2 0.2]\n",
      " [5.5 3.5 1.3 0.2]\n",
      " [4.9 3.1 1.5 0.1]\n",
      " [4.4 3.  1.3 0.2]\n",
      " [5.1 3.4 1.5 0.2]\n",
      " [5.  3.5 1.3 0.3]\n",
      " [4.5 2.3 1.3 0.3]\n",
      " [4.4 3.2 1.3 0.2]\n",
      " [5.  3.5 1.6 0.6]\n",
      " [5.1 3.8 1.9 0.4]\n",
      " [4.8 3.  1.4 0.3]\n",
      " [5.1 3.8 1.6 0.2]\n",
      " [4.6 3.2 1.4 0.2]\n",
      " [5.3 3.7 1.5 0.2]\n",
      " [5.  3.3 1.4 0.2]\n",
      " [7.  3.2 4.7 1.4]\n",
      " [6.4 3.2 4.5 1.5]\n",
      " [6.9 3.1 4.9 1.5]\n",
      " [5.5 2.3 4.  1.3]\n",
      " [6.5 2.8 4.6 1.5]\n",
      " [5.7 2.8 4.5 1.3]\n",
      " [6.3 3.3 4.7 1.6]\n",
      " [4.9 2.4 3.3 1. ]\n",
      " [6.6 2.9 4.6 1.3]\n",
      " [5.2 2.7 3.9 1.4]\n",
      " [5.  2.  3.5 1. ]\n",
      " [5.9 3.  4.2 1.5]\n",
      " [6.  2.2 4.  1. ]\n",
      " [6.1 2.9 4.7 1.4]\n",
      " [5.6 2.9 3.6 1.3]\n",
      " [6.7 3.1 4.4 1.4]\n",
      " [5.6 3.  4.5 1.5]\n",
      " [5.8 2.7 4.1 1. ]\n",
      " [6.2 2.2 4.5 1.5]\n",
      " [5.6 2.5 3.9 1.1]\n",
      " [5.9 3.2 4.8 1.8]\n",
      " [6.1 2.8 4.  1.3]\n",
      " [6.3 2.5 4.9 1.5]\n",
      " [6.1 2.8 4.7 1.2]\n",
      " [6.4 2.9 4.3 1.3]\n",
      " [6.6 3.  4.4 1.4]\n",
      " [6.8 2.8 4.8 1.4]\n",
      " [6.7 3.  5.  1.7]\n",
      " [6.  2.9 4.5 1.5]\n",
      " [5.7 2.6 3.5 1. ]\n",
      " [5.5 2.4 3.8 1.1]\n",
      " [5.5 2.4 3.7 1. ]\n",
      " [5.8 2.7 3.9 1.2]\n",
      " [6.  2.7 5.1 1.6]\n",
      " [5.4 3.  4.5 1.5]\n",
      " [6.  3.4 4.5 1.6]\n",
      " [6.7 3.1 4.7 1.5]\n",
      " [6.3 2.3 4.4 1.3]\n",
      " [5.6 3.  4.1 1.3]\n",
      " [5.5 2.5 4.  1.3]\n",
      " [5.5 2.6 4.4 1.2]\n",
      " [6.1 3.  4.6 1.4]\n",
      " [5.8 2.6 4.  1.2]\n",
      " [5.  2.3 3.3 1. ]\n",
      " [5.6 2.7 4.2 1.3]\n",
      " [5.7 3.  4.2 1.2]\n",
      " [5.7 2.9 4.2 1.3]\n",
      " [6.2 2.9 4.3 1.3]\n",
      " [5.1 2.5 3.  1.1]\n",
      " [5.7 2.8 4.1 1.3]\n",
      " [6.3 3.3 6.  2.5]\n",
      " [5.8 2.7 5.1 1.9]\n",
      " [7.1 3.  5.9 2.1]\n",
      " [6.3 2.9 5.6 1.8]\n",
      " [6.5 3.  5.8 2.2]\n",
      " [7.6 3.  6.6 2.1]\n",
      " [4.9 2.5 4.5 1.7]\n",
      " [7.3 2.9 6.3 1.8]\n",
      " [6.7 2.5 5.8 1.8]\n",
      " [7.2 3.6 6.1 2.5]\n",
      " [6.5 3.2 5.1 2. ]\n",
      " [6.4 2.7 5.3 1.9]\n",
      " [6.8 3.  5.5 2.1]\n",
      " [5.7 2.5 5.  2. ]\n",
      " [5.8 2.8 5.1 2.4]\n",
      " [6.4 3.2 5.3 2.3]\n",
      " [6.5 3.  5.5 1.8]\n",
      " [7.7 3.8 6.7 2.2]\n",
      " [7.7 2.6 6.9 2.3]\n",
      " [6.  2.2 5.  1.5]\n",
      " [6.9 3.2 5.7 2.3]\n",
      " [5.6 2.8 4.9 2. ]\n",
      " [7.7 2.8 6.7 2. ]\n",
      " [6.3 2.7 4.9 1.8]\n",
      " [6.7 3.3 5.7 2.1]\n",
      " [7.2 3.2 6.  1.8]\n",
      " [6.2 2.8 4.8 1.8]\n",
      " [6.1 3.  4.9 1.8]\n",
      " [6.4 2.8 5.6 2.1]\n",
      " [7.2 3.  5.8 1.6]\n",
      " [7.4 2.8 6.1 1.9]\n",
      " [7.9 3.8 6.4 2. ]\n",
      " [6.4 2.8 5.6 2.2]\n",
      " [6.3 2.8 5.1 1.5]\n",
      " [6.1 2.6 5.6 1.4]\n",
      " [7.7 3.  6.1 2.3]\n",
      " [6.3 3.4 5.6 2.4]\n",
      " [6.4 3.1 5.5 1.8]\n",
      " [6.  3.  4.8 1.8]\n",
      " [6.9 3.1 5.4 2.1]\n",
      " [6.7 3.1 5.6 2.4]\n",
      " [6.9 3.1 5.1 2.3]\n",
      " [5.8 2.7 5.1 1.9]\n",
      " [6.8 3.2 5.9 2.3]\n",
      " [6.7 3.3 5.7 2.5]\n",
      " [6.7 3.  5.2 2.3]\n",
      " [6.3 2.5 5.  1.9]\n",
      " [6.5 3.  5.2 2. ]\n",
      " [6.2 3.4 5.4 2.3]\n",
      " [5.9 3.  5.1 1.8]]\n"
     ]
    }
   ],
   "source": [
    "print(X.iloc[:, 1:5].values)"
   ]
  },
  {
   "cell_type": "code",
   "execution_count": 22,
   "metadata": {
    "execution": {
     "iopub.execute_input": "2021-01-28T07:59:31.090960Z",
     "iopub.status.busy": "2021-01-28T07:59:31.078301Z",
     "iopub.status.idle": "2021-01-28T07:59:31.179360Z",
     "shell.execute_reply": "2021-01-28T07:59:31.177879Z"
    },
    "papermill": {
     "duration": 0.130769,
     "end_time": "2021-01-28T07:59:31.179757",
     "exception": false,
     "start_time": "2021-01-28T07:59:31.048988",
     "status": "completed"
    },
    "scrolled": true,
    "tags": []
   },
   "outputs": [
    {
     "name": "stdout",
     "output_type": "stream",
     "text": [
      "39\n",
      "61\n",
      "50\n",
      "defaultdict(<class 'int'>, {0: array([6.85384615, 3.07692308, 5.71538462, 2.05384615]), 1: array([5.88360656, 2.74098361, 4.38852459, 1.43442623]), 2: array([5.006, 3.418, 1.464, 0.244])})\n"
     ]
    }
   ],
   "source": [
    "kmeans=KMeans(X.iloc[:, 1:5].values,clusters,10000)\n",
    "\n",
    "classes,centroids=kmeans.predict()\n",
    "\n",
    "\n",
    "for i in range(0,3):\n",
    "    classes[i]=np.array(classes[i]).tolist()\n",
    "    \n",
    "for i in range(0,3):\n",
    "    print(len(classes[i]))\n",
    "print(centroids)\n",
    "\n"
   ]
  },
  {
   "cell_type": "markdown",
   "metadata": {},
   "source": [
    "importing Iris Dataset's Target class so that we dont have to perform one hot encoding to seperate classes "
   ]
  },
  {
   "cell_type": "code",
   "execution_count": 48,
   "metadata": {},
   "outputs": [
    {
     "name": "stdout",
     "output_type": "stream",
     "text": [
      "[0 0 0 0 0 0 0 0 0 0 0 0 0 0 0 0 0 0 0 0 0 0 0 0 0 0 0 0 0 0 0 0 0 0 0 0 0\n",
      " 0 0 0 0 0 0 0 0 0 0 0 0 0 1 1 1 1 1 1 1 1 1 1 1 1 1 1 1 1 1 1 1 1 1 1 1 1\n",
      " 1 1 1 1 1 1 1 1 1 1 1 1 1 1 1 1 1 1 1 1 1 1 1 1 1 1 2 2 2 2 2 2 2 2 2 2 2\n",
      " 2 2 2 2 2 2 2 2 2 2 2 2 2 2 2 2 2 2 2 2 2 2 2 2 2 2 2 2 2 2 2 2 2 2 2 2 2\n",
      " 2 2]\n"
     ]
    }
   ],
   "source": [
    "from sklearn import datasets\n",
    "from sklearn.datasets import make_blobs\n",
    "\n",
    "iris=datasets.load_iris()\n",
    "print(iris.target)"
   ]
  },
  {
   "cell_type": "code",
   "execution_count": 52,
   "metadata": {},
   "outputs": [
    {
     "data": {
      "text/html": [
       "<div>\n",
       "<style scoped>\n",
       "    .dataframe tbody tr th:only-of-type {\n",
       "        vertical-align: middle;\n",
       "    }\n",
       "\n",
       "    .dataframe tbody tr th {\n",
       "        vertical-align: top;\n",
       "    }\n",
       "\n",
       "    .dataframe thead th {\n",
       "        text-align: right;\n",
       "    }\n",
       "</style>\n",
       "<table border=\"1\" class=\"dataframe\">\n",
       "  <thead>\n",
       "    <tr style=\"text-align: right;\">\n",
       "      <th></th>\n",
       "      <th>Classes</th>\n",
       "    </tr>\n",
       "  </thead>\n",
       "  <tbody>\n",
       "    <tr>\n",
       "      <th>0</th>\n",
       "      <td>0</td>\n",
       "    </tr>\n",
       "    <tr>\n",
       "      <th>1</th>\n",
       "      <td>0</td>\n",
       "    </tr>\n",
       "    <tr>\n",
       "      <th>2</th>\n",
       "      <td>0</td>\n",
       "    </tr>\n",
       "    <tr>\n",
       "      <th>3</th>\n",
       "      <td>0</td>\n",
       "    </tr>\n",
       "    <tr>\n",
       "      <th>4</th>\n",
       "      <td>0</td>\n",
       "    </tr>\n",
       "    <tr>\n",
       "      <th>...</th>\n",
       "      <td>...</td>\n",
       "    </tr>\n",
       "    <tr>\n",
       "      <th>145</th>\n",
       "      <td>2</td>\n",
       "    </tr>\n",
       "    <tr>\n",
       "      <th>146</th>\n",
       "      <td>2</td>\n",
       "    </tr>\n",
       "    <tr>\n",
       "      <th>147</th>\n",
       "      <td>2</td>\n",
       "    </tr>\n",
       "    <tr>\n",
       "      <th>148</th>\n",
       "      <td>2</td>\n",
       "    </tr>\n",
       "    <tr>\n",
       "      <th>149</th>\n",
       "      <td>2</td>\n",
       "    </tr>\n",
       "  </tbody>\n",
       "</table>\n",
       "<p>150 rows × 1 columns</p>\n",
       "</div>"
      ],
      "text/plain": [
       "     Classes\n",
       "0          0\n",
       "1          0\n",
       "2          0\n",
       "3          0\n",
       "4          0\n",
       "..       ...\n",
       "145        2\n",
       "146        2\n",
       "147        2\n",
       "148        2\n",
       "149        2\n",
       "\n",
       "[150 rows x 1 columns]"
      ]
     },
     "execution_count": 52,
     "metadata": {},
     "output_type": "execute_result"
    }
   ],
   "source": [
    "y=pd.DataFrame(iris.target,columns=['Classes'])\n",
    "y"
   ]
  },
  {
   "cell_type": "code",
   "execution_count": 53,
   "metadata": {
    "execution": {
     "iopub.execute_input": "2021-01-28T07:59:31.290618Z",
     "iopub.status.busy": "2021-01-28T07:59:31.289280Z",
     "iopub.status.idle": "2021-01-28T07:59:31.295067Z",
     "shell.execute_reply": "2021-01-28T07:59:31.295559Z"
    },
    "papermill": {
     "duration": 0.056886,
     "end_time": "2021-01-28T07:59:31.295732",
     "exception": false,
     "start_time": "2021-01-28T07:59:31.238846",
     "status": "completed"
    },
    "tags": []
   },
   "outputs": [],
   "source": [
    "class0=[]\n",
    "class1=[]\n",
    "class2=[]\n",
    "\n",
    "for i in range(len(X)):\n",
    "    if iris.target[i]==0:\n",
    "        class0.append(X.iloc[i,1:5].values)\n",
    "    elif iris.target[i]==1:\n",
    "        class1.append(X.iloc[i,1:5].values)\n",
    "    elif iris.target[i]==2:\n",
    "        class2.append(X.iloc[i,1:5].values)\n",
    "\n",
    "\n",
    "class0=np.array(class0).tolist()\n",
    "class1=np.array(class1).tolist()\n",
    "class2=np.array(class2).tolist()\n",
    "\n",
    "\n",
    "# utility function\n",
    "\n",
    "def subset(array1,array2):\n",
    "    flg=0\n",
    "    for i in range(len(array1)):\n",
    "        if(array2==array1[i]):\n",
    "            flg=1\n",
    "            break\n",
    "    if(flg==1):\n",
    "        return True\n",
    "    else:\n",
    "        return False\n",
    "    \n",
    "\n",
    "# confusion matrix\n",
    "    \n",
    "def confusion_matrix(a,b,c,classes,):\n",
    "    \n",
    "    cm=[[0 for i in range(y.Classes.nunique())] for i in range(y.Classes.nunique())]\n",
    "\n",
    "    for element in a:\n",
    "\n",
    "        if subset(classes[2],element):\n",
    "            cm[0][0]=cm[0][0]+1\n",
    "        elif subset(classes[1],element):\n",
    "            cm[0][1]=cm[0][1]+1\n",
    "        elif subset(classes[0],element):\n",
    "            cm[0][2]=cm[0][2]+1\n",
    "\n",
    "    for element in b:\n",
    "\n",
    "        if subset(classes[2],element):\n",
    "            cm[1][0]=cm[1][0]+1\n",
    "        elif subset(classes[1],element):\n",
    "            cm[1][1]=cm[1][1]+1\n",
    "        elif subset(classes[0],element):\n",
    "            cm[1][2]=cm[1][2]+1\n",
    "\n",
    "    for element in c:\n",
    "\n",
    "        if subset(classes[2],element):\n",
    "\n",
    "            cm[2][0]=cm[2][0]+1\n",
    "        elif subset(classes[1],element):\n",
    "\n",
    "            cm[2][1]=cm[2][1]+1\n",
    "        elif subset(classes[0],element):\n",
    "\n",
    "            cm[2][2]=cm[2][2]+1\n",
    "            \n",
    "    return cm\n",
    "\n",
    "\n",
    "# performance metrics\n",
    "            \n",
    "class Metrics:\n",
    "    \n",
    "    def __init__(self,confusion_m):\n",
    "        self.confusion_m=confusion_m\n",
    "        self.total=np.sum(confusion_m)\n",
    "        self.diagonal=np.sum(np.diag(confusion_m))\n",
    "    \n",
    "    def accuracy(self):\n",
    "        accuracy=(self.diagonal/self.total)\n",
    "        return accuracy\n",
    "    \n",
    "    def recall(self):\n",
    "        recall=np.diag(self.confusion_m)/np.sum(self.confusion_m,axis=1)\n",
    "        recall=np.mean(recall)\n",
    "        return recall\n",
    "    \n",
    "    def precision(self):\n",
    "        precision=np.diag(self.confusion_m)/np.sum(self.confusion_m,axis=0)\n",
    "        precision=np.mean(precision)\n",
    "        return precision\n",
    "    \n",
    "    def f1_score(self,precision,recall):\n",
    "        f1_score=(2*precision*recall)/(precision+recall)\n",
    "        \n",
    "        return f1_score\n"
   ]
  },
  {
   "cell_type": "code",
   "execution_count": 54,
   "metadata": {
    "execution": {
     "iopub.execute_input": "2021-01-28T07:59:31.348460Z",
     "iopub.status.busy": "2021-01-28T07:59:31.347614Z",
     "iopub.status.idle": "2021-01-28T07:59:31.352101Z",
     "shell.execute_reply": "2021-01-28T07:59:31.351319Z"
    },
    "papermill": {
     "duration": 0.037511,
     "end_time": "2021-01-28T07:59:31.352245",
     "exception": false,
     "start_time": "2021-01-28T07:59:31.314734",
     "status": "completed"
    },
    "scrolled": true,
    "tags": []
   },
   "outputs": [
    {
     "name": "stdout",
     "output_type": "stream",
     "text": [
      "confusion matrix is:\n",
      "[[50  0  0]\n",
      " [ 0 47  3]\n",
      " [ 0 14 36]]\n",
      "Accuracy of the model is 88.66666666666667\n",
      "Recall of the model is 88.66666666666667\n",
      "Precision of the model is 89.78562421185372\n",
      "F1-Score of the model is 89.22263731397425\n"
     ]
    }
   ],
   "source": [
    "\n",
    "matrix=confusion_matrix(class0,class1,class2,classes)\n",
    "performance=Metrics(matrix)\n",
    "\n",
    "accuracy=performance.accuracy()\n",
    "recall=performance.recall()\n",
    "precision=performance.precision()\n",
    "f1_score=performance.f1_score(precision,recall)\n",
    "\n",
    "print('confusion matrix is:',end='\\n')\n",
    "print(np.array(matrix),end='\\n')\n",
    "\n",
    "print(\"Accuracy of the model is {}\".format(accuracy*100))\n",
    "print(\"Recall of the model is {}\".format(recall*100))\n",
    "print(\"Precision of the model is {}\".format(precision*100))\n",
    "print(\"F1-Score of the model is {}\".format(f1_score*100))"
   ]
  }
 ],
 "metadata": {
  "kernelspec": {
   "display_name": "Python 3 (ipykernel)",
   "language": "python",
   "name": "python3"
  },
  "language_info": {
   "codemirror_mode": {
    "name": "ipython",
    "version": 3
   },
   "file_extension": ".py",
   "mimetype": "text/x-python",
   "name": "python",
   "nbconvert_exporter": "python",
   "pygments_lexer": "ipython3",
   "version": "3.9.7"
  },
  "papermill": {
   "duration": 10.955614,
   "end_time": "2021-01-28T07:59:32.142347",
   "environment_variables": {},
   "exception": null,
   "input_path": "__notebook__.ipynb",
   "output_path": "__notebook__.ipynb",
   "parameters": {},
   "start_time": "2021-01-28T07:59:21.186733",
   "version": "2.1.0"
  }
 },
 "nbformat": 4,
 "nbformat_minor": 4
}
