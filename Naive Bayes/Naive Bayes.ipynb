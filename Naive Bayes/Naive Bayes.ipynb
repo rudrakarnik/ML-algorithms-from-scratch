{
 "cells": [
  {
   "cell_type": "markdown",
   "id": "886a5c84",
   "metadata": {},
   "source": [
    "# <center>  Naive Bayes implementation for titanic dataset </center>"
   ]
  },
  {
   "cell_type": "markdown",
   "id": "bc0057ae",
   "metadata": {},
   "source": [
    "## Import Libraries"
   ]
  },
  {
   "cell_type": "code",
   "execution_count": 1,
   "id": "39af500b",
   "metadata": {},
   "outputs": [],
   "source": [
    "import pandas as pd\n",
    "import matplotlib.pyplot as plt\n",
    "import seaborn as sns"
   ]
  },
  {
   "cell_type": "markdown",
   "id": "280ef8d2",
   "metadata": {},
   "source": [
    "## Import Dataset "
   ]
  },
  {
   "cell_type": "code",
   "execution_count": 2,
   "id": "411c520b",
   "metadata": {},
   "outputs": [],
   "source": [
    "df_train = pd.read_csv('train.csv')\n",
    "df_test = pd.read_csv('test.csv')"
   ]
  },
  {
   "cell_type": "markdown",
   "id": "a5f8e050",
   "metadata": {},
   "source": [
    "## Data pre-processing"
   ]
  },
  {
   "cell_type": "markdown",
   "id": "1fff4ff2",
   "metadata": {},
   "source": [
    "Feature engineering below: We used 3 features only: Class, Sex and Age:"
   ]
  },
  {
   "cell_type": "code",
   "execution_count": 3,
   "id": "f7220b68",
   "metadata": {},
   "outputs": [],
   "source": [
    "sex={\"male\":0, \"female\":1}\n",
    "df_train.Sex = [sex[item] for item in df_train.Sex]\n",
    "df_test.Sex = [sex[item] for item in df_test.Sex]"
   ]
  },
  {
   "cell_type": "markdown",
   "id": "38084634",
   "metadata": {},
   "source": [
    "Filling null values by taking mean of whole data"
   ]
  },
  {
   "cell_type": "code",
   "execution_count": 4,
   "id": "1acb7bb5",
   "metadata": {},
   "outputs": [],
   "source": [
    "df_train.Age.fillna(df_train.Age.mean(), inplace=True)\n",
    "df_test.Age.fillna(df_test.Age.mean(), inplace=True)"
   ]
  },
  {
   "cell_type": "markdown",
   "id": "150d1b6f",
   "metadata": {},
   "source": [
    "dtype conversion"
   ]
  },
  {
   "cell_type": "code",
   "execution_count": 5,
   "id": "47bf9aef",
   "metadata": {},
   "outputs": [],
   "source": [
    "df_train.Age = df_train.Age.astype(int)\n",
    "df_test.Age = df_test.Age.astype(int)"
   ]
  },
  {
   "cell_type": "markdown",
   "id": "f7683eec",
   "metadata": {},
   "source": [
    "##### Ages grouped\n",
    "Ages are grouped on basis of the range."
   ]
  },
  {
   "cell_type": "code",
   "execution_count": 6,
   "id": "9847bf1b",
   "metadata": {},
   "outputs": [],
   "source": [
    "data = [df_train, df_test]\n",
    "for dataset in data:\n",
    "    dataset.loc[ dataset['Age'] <= 11, 'Age'] = 0\n",
    "    dataset.loc[(dataset['Age'] > 11) & (dataset['Age'] <= 18), 'Age'] = 1\n",
    "    dataset.loc[(dataset['Age'] > 18) & (dataset['Age'] <= 22), 'Age'] = 2\n",
    "    dataset.loc[(dataset['Age'] > 22) & (dataset['Age'] <= 27), 'Age'] = 3\n",
    "    dataset.loc[(dataset['Age'] > 27) & (dataset['Age'] <= 33), 'Age'] = 4\n",
    "    dataset.loc[(dataset['Age'] > 33) & (dataset['Age'] <= 40), 'Age'] = 5\n",
    "    dataset.loc[(dataset['Age'] > 40) & (dataset['Age'] <= 66), 'Age'] = 6\n",
    "    dataset.loc[ dataset['Age'] > 66, 'Age'] = 7"
   ]
  },
  {
   "cell_type": "markdown",
   "id": "c5e445da",
   "metadata": {},
   "source": [
    "##### Probabilities of the features."
   ]
  },
  {
   "cell_type": "code",
   "execution_count": 7,
   "id": "f1440dca",
   "metadata": {},
   "outputs": [],
   "source": [
    "Class_counts=df_train['Pclass'].value_counts()  \n",
    "p_Class=Class_counts/len(df_train)\n",
    "\n",
    "Sex_counts=df_train['Sex'].value_counts()\n",
    "p_Sex=Sex_counts/len(df_train)\n",
    "\n",
    "Age_counts=df_train['Age'].value_counts()\n",
    "p_Age=Age_counts/len(df_train)"
   ]
  },
  {
   "cell_type": "markdown",
   "id": "622c0453",
   "metadata": {},
   "source": [
    "##### Survival and Death probabilities"
   ]
  },
  {
   "cell_type": "code",
   "execution_count": 8,
   "id": "f09186ab",
   "metadata": {},
   "outputs": [],
   "source": [
    "y_counts=df_train['Survived'].value_counts()\n",
    "p_y=y_counts/len(df_train)\n",
    "\n",
    "df_survived=df_train.loc[df_train['Survived'] == 1]\n",
    "df_died=df_train.loc[df_train['Survived'] == 0]"
   ]
  },
  {
   "cell_type": "markdown",
   "id": "49824b29",
   "metadata": {},
   "source": [
    "###  Conditional probabilities"
   ]
  },
  {
   "cell_type": "markdown",
   "id": "77d4d7b7",
   "metadata": {},
   "source": [
    "##### class/survived\n"
   ]
  },
  {
   "cell_type": "code",
   "execution_count": 9,
   "id": "0f9a4e49",
   "metadata": {},
   "outputs": [],
   "source": [
    "class_survived_counts=df_survived['Pclass'].value_counts()  \n",
    "p_class_survived=class_survived_counts/len(df_survived)"
   ]
  },
  {
   "cell_type": "markdown",
   "id": "410ee2bd",
   "metadata": {},
   "source": [
    "##### class/died"
   ]
  },
  {
   "cell_type": "code",
   "execution_count": 10,
   "id": "9c7c3ede",
   "metadata": {},
   "outputs": [],
   "source": [
    "class_died_counts=df_died['Pclass'].value_counts()  \n",
    "p_class_died=class_died_counts/len(df_died)"
   ]
  },
  {
   "cell_type": "markdown",
   "id": "c87fea0d",
   "metadata": {},
   "source": [
    "##### sex/survived"
   ]
  },
  {
   "cell_type": "code",
   "execution_count": 11,
   "id": "6ac152f3",
   "metadata": {},
   "outputs": [],
   "source": [
    "sex_survived_counts=df_survived['Sex'].value_counts()  \n",
    "p_sex_survived=sex_survived_counts/len(df_survived)\n",
    "\n",
    "sex_died_counts=df_died['Sex'].value_counts()  \n",
    "p_sex_died=sex_died_counts/len(df_died)"
   ]
  },
  {
   "cell_type": "markdown",
   "id": "d2368221",
   "metadata": {},
   "source": [
    "##### Age/survived"
   ]
  },
  {
   "cell_type": "code",
   "execution_count": 12,
   "id": "08aec783",
   "metadata": {},
   "outputs": [],
   "source": [
    "age_survived_counts=df_survived['Age'].value_counts()  \n",
    "p_age_survived=age_survived_counts/len(df_survived)\n",
    "\n",
    "age_died_counts=df_died['Age'].value_counts()  \n",
    "p_age_died=age_died_counts/len(df_died)"
   ]
  },
  {
   "cell_type": "code",
   "execution_count": 13,
   "id": "24816ee0",
   "metadata": {},
   "outputs": [],
   "source": [
    "def Bayes(py, px1y, px2y, px3y, px1, px2, px3):\n",
    "    numerator=px1y*px2y*px3y*py\n",
    "    denominator=px1*px2*px3\n",
    "    p=numerator/denominator\n",
    "    return p"
   ]
  },
  {
   "cell_type": "code",
   "execution_count": 14,
   "id": "5f27cf80",
   "metadata": {},
   "outputs": [],
   "source": [
    "result_array=[]\n",
    "\n",
    "for i in range(0,418):\n",
    "    feature_class=df_test.iloc[i]['Pclass']\n",
    "    feature_sex=df_test.iloc[i]['Sex']\n",
    "    feature_age=df_test.iloc[i]['Age']\n",
    "    \n",
    "    P_Y1=Bayes(p_y[1], p_class_survived[feature_class], p_sex_survived[feature_sex], p_age_survived[feature_age], p_Class[feature_class], p_Sex[feature_sex], p_Age[feature_age])\n",
    "    P_Y0=Bayes(p_y[0], p_class_died[feature_class], p_sex_died[feature_sex], p_age_died[feature_age], p_Class[feature_class], p_Sex[feature_sex], p_Age[feature_age])\n",
    "    \n",
    "    if P_Y0 > P_Y1:\n",
    "        result=0\n",
    "    else:\n",
    "        result=1\n",
    "        \n",
    "    result_array.append(result)"
   ]
  },
  {
   "cell_type": "code",
   "execution_count": 15,
   "id": "34bdead6",
   "metadata": {},
   "outputs": [
    {
     "data": {
      "text/plain": [
       "array([0, 1, 0, 0, 1, 0, 1, 0, 1, 0, 0, 0, 1, 0, 1, 1, 0, 0, 1, 1, 0, 0,\n",
       "       1, 0, 1, 0, 1, 0, 0, 0, 0, 0, 1, 1, 0, 0, 1, 1, 0, 0, 0, 0, 0, 1,\n",
       "       1, 0, 0, 0, 1, 1, 0, 0, 1, 1, 0, 0, 0, 0, 0, 1, 0, 0, 0, 1, 0, 1,\n",
       "       1, 0, 0, 1, 1, 0, 1, 0, 1, 0, 0, 1, 0, 1, 0, 0, 0, 0, 0, 0, 1, 1,\n",
       "       1, 0, 1, 0, 1, 0, 0, 0, 1, 0, 1, 0, 1, 0, 0, 0, 1, 0, 0, 0, 0, 0,\n",
       "       0, 1, 1, 1, 1, 0, 0, 1, 0, 1, 1, 0, 1, 0, 0, 1, 0, 1, 0, 0, 0, 0,\n",
       "       1, 0, 0, 0, 0, 0, 1, 0, 1, 1, 0, 0, 0, 0, 0, 0, 0, 0, 1, 0, 0, 1,\n",
       "       0, 0, 1, 1, 0, 1, 1, 0, 1, 0, 0, 1, 0, 0, 1, 1, 0, 0, 0, 0, 0, 1,\n",
       "       1, 0, 1, 1, 0, 0, 1, 0, 1, 0, 1, 0, 1, 0, 0, 0, 0, 0, 0, 0, 0, 1,\n",
       "       0, 1, 1, 0, 0, 1, 0, 0, 1, 0, 1, 0, 0, 0, 0, 1, 1, 0, 1, 0, 1, 0,\n",
       "       1, 0, 1, 0, 1, 1, 0, 1, 0, 0, 0, 1, 0, 0, 0, 0, 0, 0, 1, 1, 1, 1,\n",
       "       0, 0, 0, 0, 1, 0, 1, 1, 1, 0, 0, 0, 0, 0, 0, 0, 1, 0, 0, 0, 1, 1,\n",
       "       0, 0, 0, 0, 1, 0, 0, 0, 1, 1, 0, 1, 0, 0, 0, 0, 1, 0, 1, 1, 1, 0,\n",
       "       0, 0, 0, 0, 0, 1, 0, 0, 0, 0, 1, 0, 0, 0, 0, 0, 0, 0, 1, 1, 0, 0,\n",
       "       0, 1, 0, 0, 0, 1, 1, 1, 0, 0, 0, 0, 0, 0, 0, 0, 1, 0, 1, 0, 0, 0,\n",
       "       1, 0, 0, 1, 0, 0, 0, 0, 0, 0, 0, 0, 0, 1, 0, 1, 0, 1, 0, 1, 1, 0,\n",
       "       0, 0, 1, 0, 1, 0, 0, 1, 0, 1, 1, 0, 1, 1, 0, 1, 1, 0, 0, 1, 0, 0,\n",
       "       1, 1, 1, 0, 0, 0, 0, 0, 1, 1, 0, 1, 0, 0, 0, 0, 0, 1, 0, 0, 0, 1,\n",
       "       0, 1, 0, 0, 1, 0, 1, 0, 0, 0, 0, 0, 1, 1, 1, 1, 1, 0, 1, 0, 0, 0],\n",
       "      dtype=int64)"
      ]
     },
     "execution_count": 15,
     "metadata": {},
     "output_type": "execute_result"
    }
   ],
   "source": [
    "Y_test = pd.read_csv('gender_submission.csv')\n",
    "Y_test = Y_test.iloc[:,-1].values\n",
    "Y_test"
   ]
  },
  {
   "cell_type": "code",
   "execution_count": 16,
   "id": "916673bc",
   "metadata": {},
   "outputs": [
    {
     "name": "stdout",
     "output_type": "stream",
     "text": [
      "Accuracy: 0.9976076555023924\n"
     ]
    }
   ],
   "source": [
    "from sklearn.metrics import accuracy_score\n",
    "\n",
    "accuracy = accuracy_score(Y_test, result_array)\n",
    "print(\"Accuracy:\", accuracy)"
   ]
  }
 ],
 "metadata": {
  "kernelspec": {
   "display_name": "Python 3 (ipykernel)",
   "language": "python",
   "name": "python3"
  },
  "language_info": {
   "codemirror_mode": {
    "name": "ipython",
    "version": 3
   },
   "file_extension": ".py",
   "mimetype": "text/x-python",
   "name": "python",
   "nbconvert_exporter": "python",
   "pygments_lexer": "ipython3",
   "version": "3.9.7"
  }
 },
 "nbformat": 4,
 "nbformat_minor": 5
}
