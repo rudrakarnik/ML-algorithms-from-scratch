{
 "cells": [
  {
   "cell_type": "markdown",
   "id": "41a5c94c",
   "metadata": {},
   "source": [
    "# <center>  K-Nearest Neighbour implementation for titanic dataset </center>"
   ]
  },
  {
   "cell_type": "markdown",
   "id": "dec8af76",
   "metadata": {},
   "source": [
    "## Import Libraries"
   ]
  },
  {
   "cell_type": "code",
   "execution_count": 1,
   "id": "41387259",
   "metadata": {},
   "outputs": [],
   "source": [
    "import numpy as np\n",
    "import pandas as pd\n",
    "from sklearn.preprocessing import LabelEncoder, StandardScaler"
   ]
  },
  {
   "cell_type": "markdown",
   "id": "133e30d3",
   "metadata": {},
   "source": [
    "## Import Dataset "
   ]
  },
  {
   "cell_type": "code",
   "execution_count": 3,
   "id": "da42db44",
   "metadata": {},
   "outputs": [],
   "source": [
    "train = pd.read_csv('train.csv')\n",
    "test = pd.read_csv('test.csv')"
   ]
  },
  {
   "cell_type": "markdown",
   "id": "0a201a92",
   "metadata": {},
   "source": [
    "## Data pre-processing"
   ]
  },
  {
   "cell_type": "code",
   "execution_count": 4,
   "id": "5018999e",
   "metadata": {},
   "outputs": [],
   "source": [
    "train['set'], test['set'] = 'train', 'test'\n",
    "combined = pd.concat([train, test])"
   ]
  },
  {
   "cell_type": "markdown",
   "id": "b768971c",
   "metadata": {},
   "source": [
    "Finding null values"
   ]
  },
  {
   "cell_type": "code",
   "execution_count": 5,
   "id": "1275b230",
   "metadata": {},
   "outputs": [
    {
     "data": {
      "text/plain": [
       "PassengerId       0\n",
       "Survived        418\n",
       "Pclass            0\n",
       "Name              0\n",
       "Sex               0\n",
       "Age             263\n",
       "SibSp             0\n",
       "Parch             0\n",
       "Ticket            0\n",
       "Fare              1\n",
       "Cabin          1014\n",
       "Embarked          2\n",
       "set               0\n",
       "dtype: int64"
      ]
     },
     "execution_count": 5,
     "metadata": {},
     "output_type": "execute_result"
    }
   ],
   "source": [
    "combined.isnull().sum()"
   ]
  },
  {
   "cell_type": "markdown",
   "id": "6fa9c054",
   "metadata": {},
   "source": [
    "Feature engineering below: We drop 2 features, Embarked and Cabin."
   ]
  },
  {
   "cell_type": "code",
   "execution_count": 6,
   "id": "8345e35b",
   "metadata": {},
   "outputs": [],
   "source": [
    "combined = combined.drop(['Cabin', 'Embarked'], axis=1)"
   ]
  },
  {
   "cell_type": "markdown",
   "id": "10c76b69",
   "metadata": {},
   "source": [
    "Filling null values by taking mean of whole data"
   ]
  },
  {
   "cell_type": "code",
   "execution_count": 7,
   "id": "12b0cbc1",
   "metadata": {},
   "outputs": [],
   "source": [
    "pclass = combined.loc[combined.Fare.isnull(), 'Pclass'].values[0]\n",
    "median_fare = combined.loc[combined.Pclass== pclass, 'Fare'].median()\n",
    "combined.loc[combined.Fare.isnull(), 'Fare'] = median_fare"
   ]
  },
  {
   "cell_type": "code",
   "execution_count": 8,
   "id": "903656e2",
   "metadata": {},
   "outputs": [
    {
     "data": {
      "text/plain": [
       "PassengerId      0\n",
       "Survived       418\n",
       "Pclass           0\n",
       "Name             0\n",
       "Sex              0\n",
       "Age            263\n",
       "SibSp            0\n",
       "Parch            0\n",
       "Ticket           0\n",
       "Fare             0\n",
       "set              0\n",
       "dtype: int64"
      ]
     },
     "execution_count": 8,
     "metadata": {},
     "output_type": "execute_result"
    }
   ],
   "source": [
    "combined.isnull().sum()"
   ]
  },
  {
   "cell_type": "markdown",
   "id": "c8a47871",
   "metadata": {},
   "source": [
    "Filling missing age by taking median of per age group to fill that particular age group's missing value."
   ]
  },
  {
   "cell_type": "code",
   "execution_count": 10,
   "id": "8647f99a",
   "metadata": {},
   "outputs": [
    {
     "data": {
      "text/plain": [
       "array(['Mr', 'Mrs', 'Miss', 'Master', 'Don', 'Rev', 'Dr', 'Mme', 'Ms',\n",
       "       'Major', 'Lady', 'Sir', 'Mlle', 'Col', 'Capt', 'Countess',\n",
       "       'Jonkheer', 'Dona'], dtype=object)"
      ]
     },
     "execution_count": 10,
     "metadata": {},
     "output_type": "execute_result"
    }
   ],
   "source": [
    "combined['Title'] = combined['Name'].str.extract('([A-Za-z]+)\\.', expand=True)\n",
    "combined['Title'].unique()"
   ]
  },
  {
   "cell_type": "code",
   "execution_count": 12,
   "id": "cd7219f7",
   "metadata": {},
   "outputs": [
    {
     "data": {
      "text/plain": [
       "array(['Mr', 'Mrs', 'Miss', 'Master', 'Rev', 'Dr'], dtype=object)"
      ]
     },
     "execution_count": 12,
     "metadata": {},
     "output_type": "execute_result"
    }
   ],
   "source": [
    "title_reduction = {'Mr': 'Mr', 'Mrs': 'Mrs', 'Miss': 'Miss','Master': 'Master', 'Don': 'Mr', 'Rev': 'Rev','Dr': 'Dr', 'Mme': 'Miss', 'Ms': 'Miss','Major': 'Mr', 'Lady': 'Mrs', 'Sir': 'Mr','Mlle': 'Miss', 'Col': 'Mr', 'Capt': 'Mr','Countess': 'Mrs','Jonkheer': 'Mr','Dona': 'Mrs'}\n",
    "combined['Title'] = combined['Title'].map(title_reduction)\n",
    "combined['Title'].unique()"
   ]
  },
  {
   "cell_type": "code",
   "execution_count": 14,
   "id": "cab3980b",
   "metadata": {},
   "outputs": [
    {
     "name": "stdout",
     "output_type": "stream",
     "text": [
      "Dr 49.0\n",
      "Master 4.0\n",
      "Miss 22.0\n",
      "Mr 30.0\n",
      "Mrs 36.0\n",
      "Rev 41.5\n"
     ]
    }
   ],
   "source": [
    "for title, age in combined.groupby('Title')['Age'].median().iteritems():\n",
    "    print(title, age)\n",
    "    combined.loc[(combined['Title']==title) & (combined['Age'].isnull()), 'Age'] = age"
   ]
  },
  {
   "cell_type": "code",
   "execution_count": 15,
   "id": "f7a4122c",
   "metadata": {},
   "outputs": [
    {
     "data": {
      "text/plain": [
       "PassengerId      0\n",
       "Survived       418\n",
       "Pclass           0\n",
       "Name             0\n",
       "Sex              0\n",
       "Age              0\n",
       "SibSp            0\n",
       "Parch            0\n",
       "Ticket           0\n",
       "Fare             0\n",
       "set              0\n",
       "Title            0\n",
       "dtype: int64"
      ]
     },
     "execution_count": 15,
     "metadata": {},
     "output_type": "execute_result"
    }
   ],
   "source": [
    "combined.isnull().sum()"
   ]
  },
  {
   "cell_type": "markdown",
   "id": "93126f59",
   "metadata": {},
   "source": [
    "Checking for any family member survived or not because it can increase the chances of survival of other member"
   ]
  },
  {
   "cell_type": "code",
   "execution_count": 17,
   "id": "cdf35526",
   "metadata": {},
   "outputs": [],
   "source": [
    "def other_family_members_survived(dataset, label='family_survival'):\n",
    "    ds = dataset.copy()\n",
    "    if len(dataset) == 1:\n",
    "        ds[label] = 0.5\n",
    "        return ds\n",
    "    result = []\n",
    "    for ix, row in dataset.iterrows():\n",
    "        survived_fraction = dataset.drop(ix)['Survived'].mean()\n",
    "        if np.isnan(survived_fraction):\n",
    "            result.append(0.5)\n",
    "        elif survived_fraction == 0:\n",
    "            result.append(0)\n",
    "        else:\n",
    "            result.append(1)\n",
    "    ds[label] = result\n",
    "    return ds"
   ]
  },
  {
   "cell_type": "code",
   "execution_count": 18,
   "id": "79e54452",
   "metadata": {},
   "outputs": [],
   "source": [
    "combined['surname'] = combined['Name'].apply(lambda x: x.split(\",\")[0])\n",
    "combined = combined.groupby(['surname', 'Fare']).apply(other_family_members_survived).reset_index(drop=True)"
   ]
  },
  {
   "cell_type": "code",
   "execution_count": 19,
   "id": "f30adb3c",
   "metadata": {},
   "outputs": [],
   "source": [
    "combined = combined.groupby(['Ticket']).apply(lambda x: other_family_members_survived(x, label='family_survival_ticket')).reset_index(drop=True)\n",
    "combined.loc[combined['family_survival'] == 0.5, 'family_survival'] = combined.loc[combined['family_survival'] == 0.5, 'family_survival_ticket']"
   ]
  },
  {
   "cell_type": "code",
   "execution_count": 20,
   "id": "ea8ac32e",
   "metadata": {},
   "outputs": [],
   "source": [
    "combined['family_size'] = combined['Parch'] + combined['SibSp']"
   ]
  },
  {
   "cell_type": "markdown",
   "id": "d31f26a7",
   "metadata": {},
   "source": [
    "converting categorical feature's data to numeric feature data"
   ]
  },
  {
   "cell_type": "code",
   "execution_count": 21,
   "id": "2fb147ce",
   "metadata": {},
   "outputs": [],
   "source": [
    "combined['Sex'] = LabelEncoder().fit_transform(combined['Sex'])"
   ]
  },
  {
   "cell_type": "code",
   "execution_count": 22,
   "id": "4b821e3d",
   "metadata": {},
   "outputs": [],
   "source": [
    "combined.loc[:, 'Age'] = pd.qcut(combined['Age'], 4, labels=False)\n",
    "combined.loc[:, 'Fare'] = pd.qcut(combined['Fare'], 5, labels=False)"
   ]
  },
  {
   "cell_type": "code",
   "execution_count": 23,
   "id": "32a1bbdd",
   "metadata": {},
   "outputs": [],
   "source": [
    "selected = ['Pclass', 'Sex', 'Age', 'Fare', 'family_size', 'family_survival']\n",
    "scaler  = StandardScaler()\n",
    "scaler.fit(combined[selected])\n",
    "combined[selected] = scaler.transform(combined[selected])"
   ]
  },
  {
   "cell_type": "code",
   "execution_count": 29,
   "id": "7bed0799",
   "metadata": {},
   "outputs": [],
   "source": [
    "combined.to_parquet('titanic_family_survivabillity.parquet', index=False)"
   ]
  },
  {
   "cell_type": "code",
   "execution_count": 30,
   "id": "5763b728",
   "metadata": {},
   "outputs": [],
   "source": [
    "train = combined.loc[combined['set'] == 'train'].drop('set', axis=1).reset_index(drop=True)\n",
    "test = combined.loc[combined['set'] == 'test'].drop(['set', 'Survived'], axis=1).reset_index(drop=True)"
   ]
  },
  {
   "cell_type": "code",
   "execution_count": 31,
   "id": "feef8a25",
   "metadata": {},
   "outputs": [
    {
     "data": {
      "text/plain": [
       "5.0"
      ]
     },
     "execution_count": 31,
     "metadata": {},
     "output_type": "execute_result"
    }
   ],
   "source": [
    "def euclidean_distance(vector1, vector2):\n",
    "    return np.sqrt(np.sum((vector1 - vector2)**2))"
   ]
  },
  {
   "cell_type": "code",
   "execution_count": 32,
   "id": "814b5078",
   "metadata": {},
   "outputs": [],
   "source": [
    "def get_nearest_neighbor(vector, dataset, number_of_neighbors=1, ignore_cols=['Survived']):\n",
    "    distances = []\n",
    "    for ix, row in dataset.loc[:, ~dataset.columns.isin(ignore_cols)].iterrows():\n",
    "        distance = euclidean_distance(row, vector)\n",
    "        distances.append((distance, ix))\n",
    "    indices = [x[1] for x in sorted(distances, key=lambda x: x[0])]\n",
    "    neighbors = dataset.loc[indices[:number_of_neighbors]]\n",
    "    return neighbors"
   ]
  },
  {
   "cell_type": "code",
   "execution_count": 33,
   "id": "5b489c79",
   "metadata": {},
   "outputs": [],
   "source": [
    "def predict(vector, dataset, number_of_neighbors=1, y='Survived'):\n",
    "    neighbors = get_nearest_neighbor(vector, dataset, number_of_neighbors)\n",
    "    return round(neighbors[y].mean())"
   ]
  },
  {
   "cell_type": "code",
   "execution_count": 34,
   "id": "61fdb56e",
   "metadata": {},
   "outputs": [
    {
     "name": "stdout",
     "output_type": "stream",
     "text": [
      "0\n",
      "100\n",
      "200\n",
      "300\n",
      "400\n",
      "500\n",
      "600\n",
      "700\n",
      "800\n",
      "Accuracy: 0.8372615039281706\n"
     ]
    }
   ],
   "source": [
    "def predict_dataset(dataset, number_of_neighbors=1):\n",
    "    ds = dataset.copy()\n",
    "    def predict_row(vector, dataset):\n",
    "        subset = dataset.loc[~(dataset.index==vector.name)]\n",
    "        if vector.name % 100 == 0:\n",
    "            print(vector.name)\n",
    "        return int(predict(vector, subset, number_of_neighbors))\n",
    "\n",
    "    ds['predicted'] = ds.loc[:, ds.columns.isin(selected)].apply(\n",
    "        lambda x: predict_row(x, ds), axis=1)\n",
    "    \n",
    "    return ds\n",
    "\n",
    "ds = predict_dataset(train, number_of_neighbors=10)\n",
    "\n",
    "print('Accuracy:', sum(ds['Survived'] == ds['predicted']) / len(ds))"
   ]
  },
  {
   "cell_type": "markdown",
   "id": "fd5e76a7",
   "metadata": {},
   "source": [
    "Accuracy of <b>0.8372615039281706</b> on training data"
   ]
  },
  {
   "cell_type": "code",
   "execution_count": 35,
   "id": "2c6ce312",
   "metadata": {},
   "outputs": [],
   "source": [
    "def predict_testset(test_dataset, train_dataset, number_of_neighbors=1):\n",
    "    ds = test_dataset.copy()\n",
    "    select = selected + ['Survived']\n",
    "    \n",
    "    def predict_row(vector, dataset):\n",
    "        if vector.name % 100 == 0:\n",
    "            print(vector.name)\n",
    "        return int(predict(vector, dataset[select], number_of_neighbors))\n",
    "\n",
    "    ds['Survived'] = ds.loc[:, ds.columns.isin(selected)].apply(\n",
    "        lambda x: predict_row(x, train_dataset), axis=1)\n",
    "    \n",
    "    return ds"
   ]
  },
  {
   "cell_type": "code",
   "execution_count": 36,
   "id": "c95e865a",
   "metadata": {},
   "outputs": [
    {
     "name": "stdout",
     "output_type": "stream",
     "text": [
      "0\n",
      "100\n",
      "200\n",
      "300\n",
      "400\n"
     ]
    }
   ],
   "source": [
    "final_test = predict_testset(test, train, number_of_neighbors=10)"
   ]
  },
  {
   "cell_type": "code",
   "execution_count": 37,
   "id": "b97a616a",
   "metadata": {},
   "outputs": [],
   "source": [
    "result = final_test[['PassengerId', 'Survived']].copy()"
   ]
  },
  {
   "cell_type": "code",
   "execution_count": 38,
   "id": "d6904c9b",
   "metadata": {},
   "outputs": [
    {
     "data": {
      "text/html": [
       "<div>\n",
       "<style scoped>\n",
       "    .dataframe tbody tr th:only-of-type {\n",
       "        vertical-align: middle;\n",
       "    }\n",
       "\n",
       "    .dataframe tbody tr th {\n",
       "        vertical-align: top;\n",
       "    }\n",
       "\n",
       "    .dataframe thead th {\n",
       "        text-align: right;\n",
       "    }\n",
       "</style>\n",
       "<table border=\"1\" class=\"dataframe\">\n",
       "  <thead>\n",
       "    <tr style=\"text-align: right;\">\n",
       "      <th></th>\n",
       "      <th>PassengerId</th>\n",
       "      <th>Survived</th>\n",
       "    </tr>\n",
       "  </thead>\n",
       "  <tbody>\n",
       "    <tr>\n",
       "      <th>0</th>\n",
       "      <td>892</td>\n",
       "      <td>0</td>\n",
       "    </tr>\n",
       "    <tr>\n",
       "      <th>1</th>\n",
       "      <td>893</td>\n",
       "      <td>0</td>\n",
       "    </tr>\n",
       "    <tr>\n",
       "      <th>2</th>\n",
       "      <td>894</td>\n",
       "      <td>0</td>\n",
       "    </tr>\n",
       "    <tr>\n",
       "      <th>3</th>\n",
       "      <td>895</td>\n",
       "      <td>0</td>\n",
       "    </tr>\n",
       "    <tr>\n",
       "      <th>4</th>\n",
       "      <td>896</td>\n",
       "      <td>1</td>\n",
       "    </tr>\n",
       "    <tr>\n",
       "      <th>...</th>\n",
       "      <td>...</td>\n",
       "      <td>...</td>\n",
       "    </tr>\n",
       "    <tr>\n",
       "      <th>413</th>\n",
       "      <td>1305</td>\n",
       "      <td>0</td>\n",
       "    </tr>\n",
       "    <tr>\n",
       "      <th>414</th>\n",
       "      <td>1306</td>\n",
       "      <td>1</td>\n",
       "    </tr>\n",
       "    <tr>\n",
       "      <th>415</th>\n",
       "      <td>1307</td>\n",
       "      <td>0</td>\n",
       "    </tr>\n",
       "    <tr>\n",
       "      <th>416</th>\n",
       "      <td>1308</td>\n",
       "      <td>0</td>\n",
       "    </tr>\n",
       "    <tr>\n",
       "      <th>417</th>\n",
       "      <td>1309</td>\n",
       "      <td>1</td>\n",
       "    </tr>\n",
       "  </tbody>\n",
       "</table>\n",
       "<p>418 rows × 2 columns</p>\n",
       "</div>"
      ],
      "text/plain": [
       "     PassengerId  Survived\n",
       "0            892         0\n",
       "1            893         0\n",
       "2            894         0\n",
       "3            895         0\n",
       "4            896         1\n",
       "..           ...       ...\n",
       "413         1305         0\n",
       "414         1306         1\n",
       "415         1307         0\n",
       "416         1308         0\n",
       "417         1309         1\n",
       "\n",
       "[418 rows x 2 columns]"
      ]
     },
     "execution_count": 38,
     "metadata": {},
     "output_type": "execute_result"
    }
   ],
   "source": [
    "result"
   ]
  },
  {
   "cell_type": "code",
   "execution_count": 49,
   "id": "c8bf5ad8",
   "metadata": {},
   "outputs": [
    {
     "data": {
      "text/html": [
       "<div>\n",
       "<style scoped>\n",
       "    .dataframe tbody tr th:only-of-type {\n",
       "        vertical-align: middle;\n",
       "    }\n",
       "\n",
       "    .dataframe tbody tr th {\n",
       "        vertical-align: top;\n",
       "    }\n",
       "\n",
       "    .dataframe thead th {\n",
       "        text-align: right;\n",
       "    }\n",
       "</style>\n",
       "<table border=\"1\" class=\"dataframe\">\n",
       "  <thead>\n",
       "    <tr style=\"text-align: right;\">\n",
       "      <th></th>\n",
       "      <th>PassengerId</th>\n",
       "      <th>Survived</th>\n",
       "    </tr>\n",
       "  </thead>\n",
       "  <tbody>\n",
       "    <tr>\n",
       "      <th>0</th>\n",
       "      <td>892</td>\n",
       "      <td>0</td>\n",
       "    </tr>\n",
       "    <tr>\n",
       "      <th>1</th>\n",
       "      <td>893</td>\n",
       "      <td>1</td>\n",
       "    </tr>\n",
       "    <tr>\n",
       "      <th>2</th>\n",
       "      <td>894</td>\n",
       "      <td>0</td>\n",
       "    </tr>\n",
       "    <tr>\n",
       "      <th>3</th>\n",
       "      <td>895</td>\n",
       "      <td>0</td>\n",
       "    </tr>\n",
       "    <tr>\n",
       "      <th>4</th>\n",
       "      <td>896</td>\n",
       "      <td>1</td>\n",
       "    </tr>\n",
       "    <tr>\n",
       "      <th>...</th>\n",
       "      <td>...</td>\n",
       "      <td>...</td>\n",
       "    </tr>\n",
       "    <tr>\n",
       "      <th>413</th>\n",
       "      <td>1305</td>\n",
       "      <td>0</td>\n",
       "    </tr>\n",
       "    <tr>\n",
       "      <th>414</th>\n",
       "      <td>1306</td>\n",
       "      <td>1</td>\n",
       "    </tr>\n",
       "    <tr>\n",
       "      <th>415</th>\n",
       "      <td>1307</td>\n",
       "      <td>0</td>\n",
       "    </tr>\n",
       "    <tr>\n",
       "      <th>416</th>\n",
       "      <td>1308</td>\n",
       "      <td>0</td>\n",
       "    </tr>\n",
       "    <tr>\n",
       "      <th>417</th>\n",
       "      <td>1309</td>\n",
       "      <td>0</td>\n",
       "    </tr>\n",
       "  </tbody>\n",
       "</table>\n",
       "<p>418 rows × 2 columns</p>\n",
       "</div>"
      ],
      "text/plain": [
       "     PassengerId  Survived\n",
       "0            892         0\n",
       "1            893         1\n",
       "2            894         0\n",
       "3            895         0\n",
       "4            896         1\n",
       "..           ...       ...\n",
       "413         1305         0\n",
       "414         1306         1\n",
       "415         1307         0\n",
       "416         1308         0\n",
       "417         1309         0\n",
       "\n",
       "[418 rows x 2 columns]"
      ]
     },
     "execution_count": 49,
     "metadata": {},
     "output_type": "execute_result"
    }
   ],
   "source": [
    "Sur = pd.read_csv('gender_submission.csv')\n",
    "Sur"
   ]
  },
  {
   "cell_type": "code",
   "execution_count": 50,
   "id": "00b98007",
   "metadata": {},
   "outputs": [
    {
     "name": "stdout",
     "output_type": "stream",
     "text": [
      "Accuracy: 0.4163860830527497\n"
     ]
    }
   ],
   "source": [
    "print('Accuracy:', sum(Sur['Survived'] == result['Survived']) / len(ds))"
   ]
  },
  {
   "cell_type": "markdown",
   "id": "8acb7b5c",
   "metadata": {},
   "source": [
    "Accuracy of <b>0.4163860830527497</b> on Test data\n"
   ]
  }
 ],
 "metadata": {
  "kernelspec": {
   "display_name": "Python 3 (ipykernel)",
   "language": "python",
   "name": "python3"
  },
  "language_info": {
   "codemirror_mode": {
    "name": "ipython",
    "version": 3
   },
   "file_extension": ".py",
   "mimetype": "text/x-python",
   "name": "python",
   "nbconvert_exporter": "python",
   "pygments_lexer": "ipython3",
   "version": "3.9.7"
  }
 },
 "nbformat": 4,
 "nbformat_minor": 5
}
